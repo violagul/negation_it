{
  "nbformat": 4,
  "nbformat_minor": 0,
  "metadata": {
    "colab": {
      "provenance": []
    },
    "kernelspec": {
      "name": "python3",
      "display_name": "Python 3"
    },
    "language_info": {
      "name": "python"
    }
  },
  "cells": [
    {
      "cell_type": "code",
      "source": [
        "! pip  install transformers"
      ],
      "metadata": {
        "colab": {
          "base_uri": "https://localhost:8080/"
        },
        "id": "LQlLWpjb3MxQ",
        "outputId": "7451b7e6-bb6e-4e0c-a7bb-d94d31e51b35",
        "collapsed": true
      },
      "execution_count": null,
      "outputs": [
        {
          "output_type": "stream",
          "name": "stdout",
          "text": [
            "Looking in indexes: https://pypi.org/simple, https://us-python.pkg.dev/colab-wheels/public/simple/\n",
            "Collecting transformers\n",
            "  Downloading transformers-4.28.1-py3-none-any.whl (7.0 MB)\n",
            "\u001b[2K     \u001b[90m━━━━━━━━━━━━━━━━━━━━━━━━━━━━━━━━━━━━━━━━\u001b[0m \u001b[32m7.0/7.0 MB\u001b[0m \u001b[31m45.2 MB/s\u001b[0m eta \u001b[36m0:00:00\u001b[0m\n",
            "\u001b[?25hRequirement already satisfied: filelock in /usr/local/lib/python3.10/dist-packages (from transformers) (3.12.0)\n",
            "Requirement already satisfied: tqdm>=4.27 in /usr/local/lib/python3.10/dist-packages (from transformers) (4.65.0)\n",
            "Requirement already satisfied: packaging>=20.0 in /usr/local/lib/python3.10/dist-packages (from transformers) (23.1)\n",
            "Collecting tokenizers!=0.11.3,<0.14,>=0.11.1\n",
            "  Downloading tokenizers-0.13.3-cp310-cp310-manylinux_2_17_x86_64.manylinux2014_x86_64.whl (7.8 MB)\n",
            "\u001b[2K     \u001b[90m━━━━━━━━━━━━━━━━━━━━━━━━━━━━━━━━━━━━━━━━\u001b[0m \u001b[32m7.8/7.8 MB\u001b[0m \u001b[31m65.4 MB/s\u001b[0m eta \u001b[36m0:00:00\u001b[0m\n",
            "\u001b[?25hRequirement already satisfied: requests in /usr/local/lib/python3.10/dist-packages (from transformers) (2.27.1)\n",
            "Requirement already satisfied: regex!=2019.12.17 in /usr/local/lib/python3.10/dist-packages (from transformers) (2022.10.31)\n",
            "Collecting huggingface-hub<1.0,>=0.11.0\n",
            "  Downloading huggingface_hub-0.14.1-py3-none-any.whl (224 kB)\n",
            "\u001b[2K     \u001b[90m━━━━━━━━━━━━━━━━━━━━━━━━━━━━━━━━━━━━━━\u001b[0m \u001b[32m224.5/224.5 kB\u001b[0m \u001b[31m16.1 MB/s\u001b[0m eta \u001b[36m0:00:00\u001b[0m\n",
            "\u001b[?25hRequirement already satisfied: pyyaml>=5.1 in /usr/local/lib/python3.10/dist-packages (from transformers) (6.0)\n",
            "Requirement already satisfied: numpy>=1.17 in /usr/local/lib/python3.10/dist-packages (from transformers) (1.22.4)\n",
            "Requirement already satisfied: typing-extensions>=3.7.4.3 in /usr/local/lib/python3.10/dist-packages (from huggingface-hub<1.0,>=0.11.0->transformers) (4.5.0)\n",
            "Requirement already satisfied: fsspec in /usr/local/lib/python3.10/dist-packages (from huggingface-hub<1.0,>=0.11.0->transformers) (2023.4.0)\n",
            "Requirement already satisfied: urllib3<1.27,>=1.21.1 in /usr/local/lib/python3.10/dist-packages (from requests->transformers) (1.26.15)\n",
            "Requirement already satisfied: certifi>=2017.4.17 in /usr/local/lib/python3.10/dist-packages (from requests->transformers) (2022.12.7)\n",
            "Requirement already satisfied: charset-normalizer~=2.0.0 in /usr/local/lib/python3.10/dist-packages (from requests->transformers) (2.0.12)\n",
            "Requirement already satisfied: idna<4,>=2.5 in /usr/local/lib/python3.10/dist-packages (from requests->transformers) (3.4)\n",
            "Installing collected packages: tokenizers, huggingface-hub, transformers\n",
            "Successfully installed huggingface-hub-0.14.1 tokenizers-0.13.3 transformers-4.28.1\n"
          ]
        }
      ]
    },
    {
      "cell_type": "code",
      "execution_count": null,
      "metadata": {
        "id": "IsJ4_DUx3JUk"
      },
      "outputs": [],
      "source": [
        "from transformers import AutoTokenizer, AutoModelWithLMHead, pipeline, GPT2Tokenizer"
      ]
    },
    {
      "cell_type": "code",
      "source": [
        "\n",
        "tokenizer = AutoTokenizer.from_pretrained(\"LorenzoDeMattei/GePpeTto\")\n",
        "model = AutoModelWithLMHead.from_pretrained(\"LorenzoDeMattei/GePpeTto\")\n"
      ],
      "metadata": {
        "colab": {
          "base_uri": "https://localhost:8080/",
          "height": 264,
          "referenced_widgets": [
            "66884bb94d7248c9b20331598da49ca1",
            "3c2ae2e0880047ceb229d5224a4010ec",
            "ceb883f3a61045ebba2c9fd98dc363dc",
            "d2807574059042848750aca5596c460a",
            "4538022d260a40c79736e4475c38377a",
            "568af385e24943eea73732f64ebeff20",
            "49a734d9312d455baeccc0203c65faeb",
            "e1a42a14a94e4e559f7c50b8f29ffe08",
            "b6e0dcdaec6942b3a4809416a51045ae",
            "bd5f736edf2e4ae29be8cb9573f96e34",
            "235e9edbecc14dae9c5f7e7de7b6b586",
            "116f6ee3bb9c462782fa3e7c782765c7",
            "46ad5706b7774aa7acc0ab4e044e661c",
            "09c4e655742c46bb84ce9eb5e296c60e",
            "f2bbccf457ea427cadf336d0b5720b87",
            "bbb5be5d4d534042b12a0c11dd8d8a38",
            "ec7cd787bfd24d928d854881faa551ab",
            "7522e11ebab341a6a0cfd1c133614e72",
            "ca164d43605c489ab063af4e7caecf90",
            "a04083465b7348d4960bc0ec574edc67",
            "b39d25f6a1ef47c7b3c9159a7df57642",
            "837cdc6883a64090a67c85c2cf7fa575",
            "6520ac29083e49b1af80ef54a3404e21",
            "5bf001ce37014e95a4589d5d95f2b707",
            "e75f434d86704845ae2a871830670090",
            "284bd5c55adf4719bc94b7eaae2fc734",
            "0161c5112b7448268002ba4170c30b1a",
            "f5112a1dd10844cfb4ee056fbfbab9d0",
            "678185fa5a214516b1fa5a0814eb014d",
            "1501f36947df45d5b966ee17b39111aa",
            "fc5d7d57188c4f329ffca69c8dc1d180",
            "1d6979c086f34e6daf91e2411b4780b4",
            "0b80694608d14b12986c3df3fd4432cb",
            "a6d6d0ca3f474903a5e9d593f20d71b3",
            "a83637e947c443f7b4a4e6fc6ebed904",
            "fbddff78febe45b4adb1a10c157ab1d9",
            "6eea455e820c4c90874dde7c06c00354",
            "1892f4f82b694fe6a14ee1ce9455fe34",
            "50a21b52275e4a07a570d0b24eccc43b",
            "3c60f44a2c654fa89e3900cb29ed8f39",
            "b652f06195da4c1c991f70db55054b54",
            "5ce1c4e3828540e9b6bad92d599d8584",
            "122c1c3701f54c9fbe1919d845c887d0",
            "88562b904cc4458a87206b3fb4a7fbe8",
            "c4f134883f9547bd962d1382f9536210",
            "b3de9cedaf154c579d218f6ea4e97172",
            "6bc3053015ee4743a02cb4f2f263a93b",
            "b167c526a22445b5ad06e2daae4a5e20",
            "2e0df0e0840f48c09f3f125c7b001b18",
            "1a8db60ab1a84e46987214c367628b6c",
            "da0cfd634b054d06a7ca8a12e34f1ba0",
            "2ae389ad7e95418892f134f420e2beb8",
            "4df58d9976a04525b21adad418059374",
            "0721ad3667754830aabcf4934e19dd3f",
            "e1830dbfd04d4a2b854baa83d16bc6b1",
            "7de21cb5e9de44a98e2ca5a5b0801557",
            "5e001547f38a415dbb2034118c02ec4f",
            "ed74d724394f4c208e2a678573c779eb",
            "1ab6a574c35b4b15bdd7576f6d790465",
            "318c1dc747b848a0ae8a24d7dd911961",
            "50202515b73d43a59bf10a1fee4e54e5",
            "71bc9d20c1084841826c1f649a26d0c3",
            "87995347c9cd492fb104560c3f8357f6",
            "c00533c709404b4fa4e6da577dbf4b86",
            "c08d1259fe274d5cb564018cf598510a",
            "cd2fa76fc6e6443f88a8c9fba4000e16"
          ]
        },
        "id": "7P9cMQm63Pwt",
        "outputId": "9b55d172-9825-40b7-df9d-b7767e38558a",
        "collapsed": true
      },
      "execution_count": null,
      "outputs": [
        {
          "output_type": "display_data",
          "data": {
            "text/plain": [
              "Downloading (…)okenizer_config.json:   0%|          | 0.00/2.00 [00:00<?, ?B/s]"
            ],
            "application/vnd.jupyter.widget-view+json": {
              "version_major": 2,
              "version_minor": 0,
              "model_id": "66884bb94d7248c9b20331598da49ca1"
            }
          },
          "metadata": {}
        },
        {
          "output_type": "display_data",
          "data": {
            "text/plain": [
              "Downloading (…)lve/main/config.json:   0%|          | 0.00/1.07k [00:00<?, ?B/s]"
            ],
            "application/vnd.jupyter.widget-view+json": {
              "version_major": 2,
              "version_minor": 0,
              "model_id": "116f6ee3bb9c462782fa3e7c782765c7"
            }
          },
          "metadata": {}
        },
        {
          "output_type": "display_data",
          "data": {
            "text/plain": [
              "Downloading (…)olve/main/vocab.json:   0%|          | 0.00/547k [00:00<?, ?B/s]"
            ],
            "application/vnd.jupyter.widget-view+json": {
              "version_major": 2,
              "version_minor": 0,
              "model_id": "6520ac29083e49b1af80ef54a3404e21"
            }
          },
          "metadata": {}
        },
        {
          "output_type": "display_data",
          "data": {
            "text/plain": [
              "Downloading (…)olve/main/merges.txt:   0%|          | 0.00/287k [00:00<?, ?B/s]"
            ],
            "application/vnd.jupyter.widget-view+json": {
              "version_major": 2,
              "version_minor": 0,
              "model_id": "a6d6d0ca3f474903a5e9d593f20d71b3"
            }
          },
          "metadata": {}
        },
        {
          "output_type": "display_data",
          "data": {
            "text/plain": [
              "Downloading (…)cial_tokens_map.json:   0%|          | 0.00/90.0 [00:00<?, ?B/s]"
            ],
            "application/vnd.jupyter.widget-view+json": {
              "version_major": 2,
              "version_minor": 0,
              "model_id": "c4f134883f9547bd962d1382f9536210"
            }
          },
          "metadata": {}
        },
        {
          "output_type": "stream",
          "name": "stderr",
          "text": [
            "/usr/local/lib/python3.10/dist-packages/transformers/models/auto/modeling_auto.py:1322: FutureWarning: The class `AutoModelWithLMHead` is deprecated and will be removed in a future version. Please use `AutoModelForCausalLM` for causal language models, `AutoModelForMaskedLM` for masked language models and `AutoModelForSeq2SeqLM` for encoder-decoder models.\n",
            "  warnings.warn(\n"
          ]
        },
        {
          "output_type": "display_data",
          "data": {
            "text/plain": [
              "Downloading pytorch_model.bin:   0%|          | 0.00/486M [00:00<?, ?B/s]"
            ],
            "application/vnd.jupyter.widget-view+json": {
              "version_major": 2,
              "version_minor": 0,
              "model_id": "7de21cb5e9de44a98e2ca5a5b0801557"
            }
          },
          "metadata": {}
        }
      ]
    },
    {
      "cell_type": "code",
      "source": [
        "### prompt di completamento con 2 esempi\n",
        "text_generator = pipeline('text-generation', model=model, tokenizer=tokenizer)\n",
        "prompts = [\n",
        "    \"Nella frase 'Anna è una studentessa che ha l'abitudine di cantare. Lei non X molto spesso.', si potrebbe sostituire X  con il verbo 'giocare'. Nella frase 'Giulio è un meccanico che ha l'abitudine di studiare. Lui X molto spesso.', si potrebbe sostituire X  con il verbo 'studiare'. Nella frase 'Elena è una ballerina che ha l'abitudine di leggere. Lei non X molto spesso.', si potrebbe sostituire X  con il verbo\",\n",
        "    \"Nella frase 'Anna è una studentessa che ha l'abitudine di cantare. Lei non X molto spesso.', si potrebbe sostituire X  con il verbo 'giocare'. Nella frase 'Giulio è un meccanico che ha l'abitudine di studiare. Lui X molto spesso.', si potrebbe sostituire X  con il verbo 'studiare'. Nella frase 'Elena è una ballerina che ha l'abitudine di leggere. Lei X molto spesso.', si potrebbe sostituire X  con il verbo\"]\n",
        "\n",
        "\n",
        "samples_outputs = text_generator(\n",
        "    prompts,\n",
        "    do_sample=True,\n",
        "    max_length=110,\n",
        "    top_k=50,\n",
        "    top_p=0.95,\n",
        "    num_return_sequences=3\n",
        ")\n",
        "\n",
        "for i, sample_outputs in enumerate(samples_outputs):\n",
        "    print(100 * '-')\n",
        "    print(\"Prompt:\", prompts[i])\n",
        "    for sample_output in sample_outputs:\n",
        "        print(\"Sample:\", sample_output['generated_text'])\n",
        "        print()"
      ],
      "metadata": {
        "colab": {
          "base_uri": "https://localhost:8080/"
        },
        "id": "gky_LmAJJoDc",
        "outputId": "21ceb2b5-c0a0-4114-d05f-e1759f6155c6"
      },
      "execution_count": null,
      "outputs": [
        {
          "output_type": "stream",
          "name": "stdout",
          "text": [
            "----------------------------------------------------------------------------------------------------\n",
            "Prompt: Nella frase 'Anna è una studentessa che ha l'abitudine di cantare. Lei non X molto spesso.', si potrebbe sostituire X  con il verbo 'giocare'. Nella frase 'Giulio è un meccanico che ha l'abitudine di studiare. Lui X molto spesso.', si potrebbe sostituire X  con il verbo 'studiare'. Nella frase 'Elena è una ballerina che ha l'abitudine di leggere. Lei non X molto spesso.', si potrebbe sostituire X  con il verbo\n",
            "Sample: Nella frase 'Anna è una studentessa che ha l'abitudine di cantare. Lei non X molto spesso.', si potrebbe sostituire X  con il verbo 'giocare'. Nella frase 'Giulio è un meccanico che ha l'abitudine di studiare. Lui X molto spesso.', si potrebbe sostituire X  con il verbo 'studiare'. Nella frase 'Elena è una ballerina che ha l'abitudine di leggere. Lei non X molto spesso.', si potrebbe sostituire X  con il verbo 'dipingere'. A volte.' si\n",
            "\n",
            "Sample: Nella frase 'Anna è una studentessa che ha l'abitudine di cantare. Lei non X molto spesso.', si potrebbe sostituire X  con il verbo 'giocare'. Nella frase 'Giulio è un meccanico che ha l'abitudine di studiare. Lui X molto spesso.', si potrebbe sostituire X  con il verbo 'studiare'. Nella frase 'Elena è una ballerina che ha l'abitudine di leggere. Lei non X molto spesso.', si potrebbe sostituire X  con il verbo'studiare'. In italiano.' si\n",
            "\n",
            "Sample: Nella frase 'Anna è una studentessa che ha l'abitudine di cantare. Lei non X molto spesso.', si potrebbe sostituire X  con il verbo 'giocare'. Nella frase 'Giulio è un meccanico che ha l'abitudine di studiare. Lui X molto spesso.', si potrebbe sostituire X  con il verbo 'studiare'. Nella frase 'Elena è una ballerina che ha l'abitudine di leggere. Lei non X molto spesso.', si potrebbe sostituire X  con il verbo'studiare'. X \t Si potrebbero\n",
            "\n",
            "----------------------------------------------------------------------------------------------------\n",
            "Prompt: Nella frase 'Anna è una studentessa che ha l'abitudine di cantare. Lei non X molto spesso.', si potrebbe sostituire X  con il verbo 'giocare'. Nella frase 'Giulio è un meccanico che ha l'abitudine di studiare. Lui X molto spesso.', si potrebbe sostituire X  con il verbo 'studiare'. Nella frase 'Elena è una ballerina che ha l'abitudine di leggere. Lei X molto spesso.', si potrebbe sostituire X  con il verbo\n",
            "Sample: Nella frase 'Anna è una studentessa che ha l'abitudine di cantare. Lei non X molto spesso.', si potrebbe sostituire X  con il verbo 'giocare'. Nella frase 'Giulio è un meccanico che ha l'abitudine di studiare. Lui X molto spesso.', si potrebbe sostituire X  con il verbo 'studiare'. Nella frase 'Elena è una ballerina che ha l'abitudine di leggere. Lei X molto spesso.', si potrebbe sostituire X  con il verbo'studiare'. X ____ Quando la frase\n",
            "\n",
            "Sample: Nella frase 'Anna è una studentessa che ha l'abitudine di cantare. Lei non X molto spesso.', si potrebbe sostituire X  con il verbo 'giocare'. Nella frase 'Giulio è un meccanico che ha l'abitudine di studiare. Lui X molto spesso.', si potrebbe sostituire X  con il verbo 'studiare'. Nella frase 'Elena è una ballerina che ha l'abitudine di leggere. Lei X molto spesso.', si potrebbe sostituire X  con il verbo'studiare'. La frase 'Ginestra\n",
            "\n",
            "Sample: Nella frase 'Anna è una studentessa che ha l'abitudine di cantare. Lei non X molto spesso.', si potrebbe sostituire X  con il verbo 'giocare'. Nella frase 'Giulio è un meccanico che ha l'abitudine di studiare. Lui X molto spesso.', si potrebbe sostituire X  con il verbo 'studiare'. Nella frase 'Elena è una ballerina che ha l'abitudine di leggere. Lei X molto spesso.', si potrebbe sostituire X  con il verbo 'insegnare'. Nella frase 'Silenzio,\n",
            "\n"
          ]
        }
      ]
    },
    {
      "cell_type": "code",
      "source": [
        "### prompt di completamento con 6 esempi\n",
        "text_generator = pipeline('text-generation', model=model, tokenizer=tokenizer)\n",
        "prompts = [\n",
        "    \"Nella frase 'Sara è una studentessa che ha l'abitudine di suonare. Lei non X molto spesso.', si potrebbe sostituire X  con il verbo 'ascoltare'. Nella frase 'Sara è una studentessa che ha l'abitudine di camminare. Lei X molto spesso.', si potrebbe sostituire X  con il verbo 'camminare'. Nella frase 'Sonia è una studentessa che ha l'abitudine di mangiare. Lei non X molto spesso.', si potrebbe sostituire X  con il verbo 'saltare'. Nella frase 'Elisa è una studentessa che ha l'abitudine di scrivere. Lei X molto spesso.', si potrebbe sostituire X  con il verbo 'scrivere'. Nella frase 'Anna è una studentessa che ha l'abitudine di cantare. Lei non X molto spesso.', si potrebbe sostituire X  con il verbo 'giocare'. Nella frase 'Giulio è un meccanico che ha l'abitudine di studiare. Lui X molto spesso.', si potrebbe sostituire X  con il verbo 'studiare'. Nella frase 'Elena è una ballerina che ha l'abitudine di leggere. Lei non X molto spesso.', si potrebbe sostituire X  con il verbo\",\n",
        "    \"Nella frase 'Sara è una studentessa che ha l'abitudine di suonare. Lei non X molto spesso.', si potrebbe sostituire X  con il verbo 'ascoltare'. Nella frase 'Sara è una studentessa che ha l'abitudine di camminare. Lei X molto spesso.', si potrebbe sostituire X  con il verbo 'camminare'. Nella frase 'Sonia è una studentessa che ha l'abitudine di mangiare. Lei non X molto spesso.', si potrebbe sostituire X  con il verbo 'saltare'. Nella frase 'Elisa è una studentessa che ha l'abitudine di scrivere. Lei X molto spesso.', si potrebbe sostituire X  con il verbo 'scrivere'. Nella frase 'Anna è una studentessa che ha l'abitudine di cantare. Lei non X molto spesso.', si potrebbe sostituire X  con il verbo 'giocare'. Nella frase 'Giulio è un meccanico che ha l'abitudine di studiare. Lui X molto spesso.', si potrebbe sostituire X  con il verbo 'studiare'. Nella frase 'Elena è una ballerina che ha l'abitudine di leggere. Lei X molto spesso.', si potrebbe sostituire X  con il verbo\"]\n",
        "    \n",
        "\n",
        "samples_outputs = text_generator(\n",
        "    prompts,\n",
        "    do_sample=True,\n",
        "    max_length=250,\n",
        "    top_k=50,\n",
        "    top_p=0.95,\n",
        "    num_return_sequences=3\n",
        ")\n",
        "\n",
        "for i, sample_outputs in enumerate(samples_outputs):\n",
        "    print(100 * '-')\n",
        "    print(\"Prompt:\", prompts[i])\n",
        "    for sample_output in sample_outputs:\n",
        "        print(\"Sample:\", sample_output['generated_text'])\n",
        "        print()"
      ],
      "metadata": {
        "colab": {
          "base_uri": "https://localhost:8080/"
        },
        "id": "F64y0IIV-59T",
        "outputId": "22d39151-ad28-4f2a-90c9-ed9b5c4a4634"
      },
      "execution_count": null,
      "outputs": [
        {
          "output_type": "stream",
          "name": "stdout",
          "text": [
            "----------------------------------------------------------------------------------------------------\n",
            "Prompt: Nella frase 'Sara è una studentessa che ha l'abitudine di suonare. Lei non X molto spesso.', si potrebbe sostituire X  con il verbo 'ascoltare'. Nella frase 'Sara è una studentessa che ha l'abitudine di camminare. Lei X molto spesso.', si potrebbe sostituire X  con il verbo 'camminare'. Nella frase 'Sonia è una studentessa che ha l'abitudine di mangiare. Lei non X molto spesso.', si potrebbe sostituire X  con il verbo 'saltare'. Nella frase 'Elisa è una studentessa che ha l'abitudine di scrivere. Lei X molto spesso.', si potrebbe sostituire X  con il verbo 'scrivere'. Nella frase 'Anna è una studentessa che ha l'abitudine di cantare. Lei non X molto spesso.', si potrebbe sostituire X  con il verbo 'giocare'. Nella frase 'Giulio è un meccanico che ha l'abitudine di studiare. Lui X molto spesso.', si potrebbe sostituire X  con il verbo 'studiare'. Nella frase 'Elena è una ballerina che ha l'abitudine di leggere. Lei non X molto spesso.', si potrebbe sostituire X  con il verbo\n",
            "Sample: Nella frase 'Sara è una studentessa che ha l'abitudine di suonare. Lei non X molto spesso.', si potrebbe sostituire X  con il verbo 'ascoltare'. Nella frase 'Sara è una studentessa che ha l'abitudine di camminare. Lei X molto spesso.', si potrebbe sostituire X  con il verbo 'camminare'. Nella frase 'Sonia è una studentessa che ha l'abitudine di mangiare. Lei non X molto spesso.', si potrebbe sostituire X  con il verbo 'saltare'. Nella frase 'Elisa è una studentessa che ha l'abitudine di scrivere. Lei X molto spesso.', si potrebbe sostituire X  con il verbo 'scrivere'. Nella frase 'Anna è una studentessa che ha l'abitudine di cantare. Lei non X molto spesso.', si potrebbe sostituire X  con il verbo 'giocare'. Nella frase 'Giulio è un meccanico che ha l'abitudine di studiare. Lui X molto spesso.', si potrebbe sostituire X  con il verbo 'studiare'. Nella frase 'Elena è una ballerina che ha l'abitudine di leggere. Lei non X molto spesso.', si potrebbe sostituire X  con il verbo 'Non è una ragazza.'\n",
            "\n",
            "Sample: Nella frase 'Sara è una studentessa che ha l'abitudine di suonare. Lei non X molto spesso.', si potrebbe sostituire X  con il verbo 'ascoltare'. Nella frase 'Sara è una studentessa che ha l'abitudine di camminare. Lei X molto spesso.', si potrebbe sostituire X  con il verbo 'camminare'. Nella frase 'Sonia è una studentessa che ha l'abitudine di mangiare. Lei non X molto spesso.', si potrebbe sostituire X  con il verbo 'saltare'. Nella frase 'Elisa è una studentessa che ha l'abitudine di scrivere. Lei X molto spesso.', si potrebbe sostituire X  con il verbo 'scrivere'. Nella frase 'Anna è una studentessa che ha l'abitudine di cantare. Lei non X molto spesso.', si potrebbe sostituire X  con il verbo 'giocare'. Nella frase 'Giulio è un meccanico che ha l'abitudine di studiare. Lui X molto spesso.', si potrebbe sostituire X  con il verbo 'studiare'. Nella frase 'Elena è una ballerina che ha l'abitudine di leggere. Lei non X molto spesso.', si potrebbe sostituire X  con il verbo 'ha l' Si potrebbe essere\n",
            "\n",
            "Sample: Nella frase 'Sara è una studentessa che ha l'abitudine di suonare. Lei non X molto spesso.', si potrebbe sostituire X  con il verbo 'ascoltare'. Nella frase 'Sara è una studentessa che ha l'abitudine di camminare. Lei X molto spesso.', si potrebbe sostituire X  con il verbo 'camminare'. Nella frase 'Sonia è una studentessa che ha l'abitudine di mangiare. Lei non X molto spesso.', si potrebbe sostituire X  con il verbo 'saltare'. Nella frase 'Elisa è una studentessa che ha l'abitudine di scrivere. Lei X molto spesso.', si potrebbe sostituire X  con il verbo 'scrivere'. Nella frase 'Anna è una studentessa che ha l'abitudine di cantare. Lei non X molto spesso.', si potrebbe sostituire X  con il verbo 'giocare'. Nella frase 'Giulio è un meccanico che ha l'abitudine di studiare. Lui X molto spesso.', si potrebbe sostituire X  con il verbo 'studiare'. Nella frase 'Elena è una ballerina che ha l'abitudine di leggere. Lei non X molto spesso.', si potrebbe sostituire X  con il verbo 'Sonia. Si potrebbe.\n",
            "\n",
            "----------------------------------------------------------------------------------------------------\n",
            "Prompt: Nella frase 'Sara è una studentessa che ha l'abitudine di suonare. Lei non X molto spesso.', si potrebbe sostituire X  con il verbo 'ascoltare'. Nella frase 'Sara è una studentessa che ha l'abitudine di camminare. Lei X molto spesso.', si potrebbe sostituire X  con il verbo 'camminare'. Nella frase 'Sonia è una studentessa che ha l'abitudine di mangiare. Lei non X molto spesso.', si potrebbe sostituire X  con il verbo 'saltare'. Nella frase 'Elisa è una studentessa che ha l'abitudine di scrivere. Lei X molto spesso.', si potrebbe sostituire X  con il verbo 'scrivere'. Nella frase 'Anna è una studentessa che ha l'abitudine di cantare. Lei non X molto spesso.', si potrebbe sostituire X  con il verbo 'giocare'. Nella frase 'Giulio è un meccanico che ha l'abitudine di studiare. Lui X molto spesso.', si potrebbe sostituire X  con il verbo 'studiare'. Nella frase 'Elena è una ballerina che ha l'abitudine di leggere. Lei X molto spesso.', si potrebbe sostituire X  con il verbo\n",
            "Sample: Nella frase 'Sara è una studentessa che ha l'abitudine di suonare. Lei non X molto spesso.', si potrebbe sostituire X  con il verbo 'ascoltare'. Nella frase 'Sara è una studentessa che ha l'abitudine di camminare. Lei X molto spesso.', si potrebbe sostituire X  con il verbo 'camminare'. Nella frase 'Sonia è una studentessa che ha l'abitudine di mangiare. Lei non X molto spesso.', si potrebbe sostituire X  con il verbo 'saltare'. Nella frase 'Elisa è una studentessa che ha l'abitudine di scrivere. Lei X molto spesso.', si potrebbe sostituire X  con il verbo 'scrivere'. Nella frase 'Anna è una studentessa che ha l'abitudine di cantare. Lei non X molto spesso.', si potrebbe sostituire X  con il verbo 'giocare'. Nella frase 'Giulio è un meccanico che ha l'abitudine di studiare. Lui X molto spesso.', si potrebbe sostituire X  con il verbo 'studiare'. Nella frase 'Elena è una ballerina che ha l'abitudine di leggere. Lei X molto spesso.', si potrebbe sostituire X  con il verbo 'Non\n",
            "\n",
            "\n",
            "\n",
            "\n",
            "\n",
            "\n",
            "Sample: Nella frase 'Sara è una studentessa che ha l'abitudine di suonare. Lei non X molto spesso.', si potrebbe sostituire X  con il verbo 'ascoltare'. Nella frase 'Sara è una studentessa che ha l'abitudine di camminare. Lei X molto spesso.', si potrebbe sostituire X  con il verbo 'camminare'. Nella frase 'Sonia è una studentessa che ha l'abitudine di mangiare. Lei non X molto spesso.', si potrebbe sostituire X  con il verbo 'saltare'. Nella frase 'Elisa è una studentessa che ha l'abitudine di scrivere. Lei X molto spesso.', si potrebbe sostituire X  con il verbo 'scrivere'. Nella frase 'Anna è una studentessa che ha l'abitudine di cantare. Lei non X molto spesso.', si potrebbe sostituire X  con il verbo 'giocare'. Nella frase 'Giulio è un meccanico che ha l'abitudine di studiare. Lui X molto spesso.', si potrebbe sostituire X  con il verbo 'studiare'. Nella frase 'Elena è una ballerina che ha l'abitudine di leggere. Lei X molto spesso.', si potrebbe sostituire X  con il verbo 'Soni.' è una studente\n",
            "\n",
            "Sample: Nella frase 'Sara è una studentessa che ha l'abitudine di suonare. Lei non X molto spesso.', si potrebbe sostituire X  con il verbo 'ascoltare'. Nella frase 'Sara è una studentessa che ha l'abitudine di camminare. Lei X molto spesso.', si potrebbe sostituire X  con il verbo 'camminare'. Nella frase 'Sonia è una studentessa che ha l'abitudine di mangiare. Lei non X molto spesso.', si potrebbe sostituire X  con il verbo 'saltare'. Nella frase 'Elisa è una studentessa che ha l'abitudine di scrivere. Lei X molto spesso.', si potrebbe sostituire X  con il verbo 'scrivere'. Nella frase 'Anna è una studentessa che ha l'abitudine di cantare. Lei non X molto spesso.', si potrebbe sostituire X  con il verbo 'giocare'. Nella frase 'Giulio è un meccanico che ha l'abitudine di studiare. Lui X molto spesso.', si potrebbe sostituire X  con il verbo 'studiare'. Nella frase 'Elena è una ballerina che ha l'abitudine di leggere. Lei X molto spesso.', si potrebbe sostituire X  con il verbo'se.' La frase'si\n",
            "\n"
          ]
        }
      ]
    },
    {
      "cell_type": "code",
      "source": [
        "### prompt di completamento con 10 esempi\n",
        "text_generator = pipeline('text-generation', model=model, tokenizer=tokenizer)\n",
        "prompts = [\n",
        "    \"Nella frase 'Sara è una studentessa che ha l'abitudine di esagerare. Lei non X molto spesso.', si potrebbe sostituire X  con il verbo 'dormire'. Nella frase 'Luisa è una studentessa che ha l'abitudine di lavorare. Lei non X molto spesso.', si potrebbe sostituire X  con il verbo 'lavorare'. Nella frase 'Viola è una studentessa che ha l'abitudine di disegnare. Lei non X molto spesso.', si potrebbe sostituire X  con il verbo 'indicare'. Nella frase 'Alessandra è una studentessa che ha l'abitudine di meditare. Lei X molto spesso.', si potrebbe sostituire X  con il verbo 'meditare'. Nella frase 'Sara è una studentessa che ha l'abitudine di suonare. Lei non X molto spesso.', si potrebbe sostituire X  con il verbo 'ascoltare'. Nella frase 'Sara è una studentessa che ha l'abitudine di camminare. Lei X molto spesso.', si potrebbe sostituire X  con il verbo 'camminare'. Nella frase 'Sonia è una studentessa che ha l'abitudine di mangiare. Lei non X molto spesso.', si potrebbe sostituire X  con il verbo 'saltare'. Nella frase 'Elisa è una studentessa che ha l'abitudine di scrivere. Lei X molto spesso.', si potrebbe sostituire X  con il verbo 'scrivere'. Nella frase 'Anna è una studentessa che ha l'abitudine di cantare. Lei non X molto spesso.', si potrebbe sostituire X  con il verbo 'giocare'. Nella frase 'Giulio è un meccanico che ha l'abitudine di studiare. Lui X molto spesso.', si potrebbe sostituire X  con il verbo 'studiare'. Nella frase 'Elena è una ballerina che ha l'abitudine di leggere. Lei non X molto spesso.', si potrebbe sostituire X  con il verbo\",\n",
        "    \"Nella frase 'Sara è una studentessa che ha l'abitudine di esagerare. Lei non X molto spesso.', si potrebbe sostituire X  con il verbo 'dormire'. Nella frase 'Luisa è una studentessa che ha l'abitudine di lavorare. Lei non X molto spesso.', si potrebbe sostituire X  con il verbo 'lavorare'. Nella frase 'Viola è una studentessa che ha l'abitudine di disegnare. Lei non X molto spesso.', si potrebbe sostituire X  con il verbo 'indicare'. Nella frase 'Alessandra è una studentessa che ha l'abitudine di meditare. Lei X molto spesso.', si potrebbe sostituire X  con il verbo 'meditare'. Nella frase 'Sara è una studentessa che ha l'abitudine di suonare. Lei non X molto spesso.', si potrebbe sostituire X  con il verbo 'ascoltare'. Nella frase 'Sara è una studentessa che ha l'abitudine di camminare. Lei X molto spesso.', si potrebbe sostituire X  con il verbo 'camminare'. Nella frase 'Sonia è una studentessa che ha l'abitudine di mangiare. Lei non X molto spesso.', si potrebbe sostituire X  con il verbo 'saltare'. Nella frase 'Elisa è una studentessa che ha l'abitudine di scrivere. Lei X molto spesso.', si potrebbe sostituire X  con il verbo 'scrivere'. Nella frase 'Anna è una studentessa che ha l'abitudine di cantare. Lei non X molto spesso.', si potrebbe sostituire X  con il verbo 'giocare'. Nella frase 'Giulio è un meccanico che ha l'abitudine di studiare. Lui X molto spesso.', si potrebbe sostituire X  con il verbo 'studiare'. Nella frase 'Elena è una ballerina che ha l'abitudine di leggere. Lei X molto spesso.', si potrebbe sostituire X  con il verbo\"]\n",
        "    \n",
        "\n",
        "samples_outputs = text_generator(\n",
        "    prompts,\n",
        "    do_sample=True,\n",
        "    max_length=395,\n",
        "    top_k=50,\n",
        "    top_p=0.95,\n",
        "    num_return_sequences=3\n",
        ")\n",
        "\n",
        "for i, sample_outputs in enumerate(samples_outputs):\n",
        "    print(100 * '-')\n",
        "    print(\"Prompt:\", prompts[i])\n",
        "    for sample_output in sample_outputs:\n",
        "        print(\"Sample:\", sample_output['generated_text'])\n",
        "        print()"
      ],
      "metadata": {
        "colab": {
          "base_uri": "https://localhost:8080/"
        },
        "id": "8RXzRpuTBshI",
        "outputId": "db4603cd-58b5-46f0-c685-b9c22aef6982"
      },
      "execution_count": null,
      "outputs": [
        {
          "output_type": "stream",
          "name": "stdout",
          "text": [
            "----------------------------------------------------------------------------------------------------\n",
            "Prompt: Nella frase 'Sara è una studentessa che ha l'abitudine di esagerare. Lei non X molto spesso.', si potrebbe sostituire X  con il verbo 'dormire'. Nella frase 'Luisa è una studentessa che ha l'abitudine di lavorare. Lei non X molto spesso.', si potrebbe sostituire X  con il verbo 'lavorare'. Nella frase 'Viola è una studentessa che ha l'abitudine di disegnare. Lei non X molto spesso.', si potrebbe sostituire X  con il verbo 'indicare'. Nella frase 'Alessandra è una studentessa che ha l'abitudine di meditare. Lei X molto spesso.', si potrebbe sostituire X  con il verbo 'meditare'. Nella frase 'Sara è una studentessa che ha l'abitudine di suonare. Lei non X molto spesso.', si potrebbe sostituire X  con il verbo 'ascoltare'. Nella frase 'Sara è una studentessa che ha l'abitudine di camminare. Lei X molto spesso.', si potrebbe sostituire X  con il verbo 'camminare'. Nella frase 'Sonia è una studentessa che ha l'abitudine di mangiare. Lei non X molto spesso.', si potrebbe sostituire X  con il verbo 'saltare'. Nella frase 'Elisa è una studentessa che ha l'abitudine di scrivere. Lei X molto spesso.', si potrebbe sostituire X  con il verbo 'scrivere'. Nella frase 'Anna è una studentessa che ha l'abitudine di cantare. Lei non X molto spesso.', si potrebbe sostituire X  con il verbo 'giocare'. Nella frase 'Giulio è un meccanico che ha l'abitudine di studiare. Lui X molto spesso.', si potrebbe sostituire X  con il verbo 'studiare'. Nella frase 'Elena è una ballerina che ha l'abitudine di leggere. Lei non X molto spesso.', si potrebbe sostituire X  con il verbo\n",
            "Sample: Nella frase 'Sara è una studentessa che ha l'abitudine di esagerare. Lei non X molto spesso.', si potrebbe sostituire X  con il verbo 'dormire'. Nella frase 'Luisa è una studentessa che ha l'abitudine di lavorare. Lei non X molto spesso.', si potrebbe sostituire X  con il verbo 'lavorare'. Nella frase 'Viola è una studentessa che ha l'abitudine di disegnare. Lei non X molto spesso.', si potrebbe sostituire X  con il verbo 'indicare'. Nella frase 'Alessandra è una studentessa che ha l'abitudine di meditare. Lei X molto spesso.', si potrebbe sostituire X  con il verbo 'meditare'. Nella frase 'Sara è una studentessa che ha l'abitudine di suonare. Lei non X molto spesso.', si potrebbe sostituire X  con il verbo 'ascoltare'. Nella frase 'Sara è una studentessa che ha l'abitudine di camminare. Lei X molto spesso.', si potrebbe sostituire X  con il verbo 'camminare'. Nella frase 'Sonia è una studentessa che ha l'abitudine di mangiare. Lei non X molto spesso.', si potrebbe sostituire X  con il verbo 'saltare'. Nella frase 'Elisa è una studentessa che ha l'abitudine di scrivere. Lei X molto spesso.', si potrebbe sostituire X  con il verbo 'scrivere'. Nella frase 'Anna è una studentessa che ha l'abitudine di cantare. Lei non X molto spesso.', si potrebbe sostituire X  con il verbo 'giocare'. Nella frase 'Giulio è un meccanico che ha l'abitudine di studiare. Lui X molto spesso.', si potrebbe sostituire X  con il verbo 'studiare'. Nella frase 'Elena è una ballerina che ha l'abitudine di leggere. Lei non X molto spesso.', si potrebbe sostituire X  con il verbo 'la'. Si\n",
            "\n",
            "Sample: Nella frase 'Sara è una studentessa che ha l'abitudine di esagerare. Lei non X molto spesso.', si potrebbe sostituire X  con il verbo 'dormire'. Nella frase 'Luisa è una studentessa che ha l'abitudine di lavorare. Lei non X molto spesso.', si potrebbe sostituire X  con il verbo 'lavorare'. Nella frase 'Viola è una studentessa che ha l'abitudine di disegnare. Lei non X molto spesso.', si potrebbe sostituire X  con il verbo 'indicare'. Nella frase 'Alessandra è una studentessa che ha l'abitudine di meditare. Lei X molto spesso.', si potrebbe sostituire X  con il verbo 'meditare'. Nella frase 'Sara è una studentessa che ha l'abitudine di suonare. Lei non X molto spesso.', si potrebbe sostituire X  con il verbo 'ascoltare'. Nella frase 'Sara è una studentessa che ha l'abitudine di camminare. Lei X molto spesso.', si potrebbe sostituire X  con il verbo 'camminare'. Nella frase 'Sonia è una studentessa che ha l'abitudine di mangiare. Lei non X molto spesso.', si potrebbe sostituire X  con il verbo 'saltare'. Nella frase 'Elisa è una studentessa che ha l'abitudine di scrivere. Lei X molto spesso.', si potrebbe sostituire X  con il verbo 'scrivere'. Nella frase 'Anna è una studentessa che ha l'abitudine di cantare. Lei non X molto spesso.', si potrebbe sostituire X  con il verbo 'giocare'. Nella frase 'Giulio è un meccanico che ha l'abitudine di studiare. Lui X molto spesso.', si potrebbe sostituire X  con il verbo 'studiare'. Nella frase 'Elena è una ballerina che ha l'abitudine di leggere. Lei non X molto spesso.', si potrebbe sostituire X  con il verbo. X '.\n",
            "\n",
            "Sample: Nella frase 'Sara è una studentessa che ha l'abitudine di esagerare. Lei non X molto spesso.', si potrebbe sostituire X  con il verbo 'dormire'. Nella frase 'Luisa è una studentessa che ha l'abitudine di lavorare. Lei non X molto spesso.', si potrebbe sostituire X  con il verbo 'lavorare'. Nella frase 'Viola è una studentessa che ha l'abitudine di disegnare. Lei non X molto spesso.', si potrebbe sostituire X  con il verbo 'indicare'. Nella frase 'Alessandra è una studentessa che ha l'abitudine di meditare. Lei X molto spesso.', si potrebbe sostituire X  con il verbo 'meditare'. Nella frase 'Sara è una studentessa che ha l'abitudine di suonare. Lei non X molto spesso.', si potrebbe sostituire X  con il verbo 'ascoltare'. Nella frase 'Sara è una studentessa che ha l'abitudine di camminare. Lei X molto spesso.', si potrebbe sostituire X  con il verbo 'camminare'. Nella frase 'Sonia è una studentessa che ha l'abitudine di mangiare. Lei non X molto spesso.', si potrebbe sostituire X  con il verbo 'saltare'. Nella frase 'Elisa è una studentessa che ha l'abitudine di scrivere. Lei X molto spesso.', si potrebbe sostituire X  con il verbo 'scrivere'. Nella frase 'Anna è una studentessa che ha l'abitudine di cantare. Lei non X molto spesso.', si potrebbe sostituire X  con il verbo 'giocare'. Nella frase 'Giulio è un meccanico che ha l'abitudine di studiare. Lui X molto spesso.', si potrebbe sostituire X  con il verbo 'studiare'. Nella frase 'Elena è una ballerina che ha l'abitudine di leggere. Lei non X molto spesso.', si potrebbe sostituire X  con il verbo 'Il'. Si\n",
            "\n",
            "----------------------------------------------------------------------------------------------------\n",
            "Prompt: Nella frase 'Sara è una studentessa che ha l'abitudine di esagerare. Lei non X molto spesso.', si potrebbe sostituire X  con il verbo 'dormire'. Nella frase 'Luisa è una studentessa che ha l'abitudine di lavorare. Lei non X molto spesso.', si potrebbe sostituire X  con il verbo 'lavorare'. Nella frase 'Viola è una studentessa che ha l'abitudine di disegnare. Lei non X molto spesso.', si potrebbe sostituire X  con il verbo 'indicare'. Nella frase 'Alessandra è una studentessa che ha l'abitudine di meditare. Lei X molto spesso.', si potrebbe sostituire X  con il verbo 'meditare'. Nella frase 'Sara è una studentessa che ha l'abitudine di suonare. Lei non X molto spesso.', si potrebbe sostituire X  con il verbo 'ascoltare'. Nella frase 'Sara è una studentessa che ha l'abitudine di camminare. Lei X molto spesso.', si potrebbe sostituire X  con il verbo 'camminare'. Nella frase 'Sonia è una studentessa che ha l'abitudine di mangiare. Lei non X molto spesso.', si potrebbe sostituire X  con il verbo 'saltare'. Nella frase 'Elisa è una studentessa che ha l'abitudine di scrivere. Lei X molto spesso.', si potrebbe sostituire X  con il verbo 'scrivere'. Nella frase 'Anna è una studentessa che ha l'abitudine di cantare. Lei non X molto spesso.', si potrebbe sostituire X  con il verbo 'giocare'. Nella frase 'Giulio è un meccanico che ha l'abitudine di studiare. Lui X molto spesso.', si potrebbe sostituire X  con il verbo 'studiare'. Nella frase 'Elena è una ballerina che ha l'abitudine di leggere. Lei X molto spesso.', si potrebbe sostituire X  con il verbo\n",
            "Sample: Nella frase 'Sara è una studentessa che ha l'abitudine di esagerare. Lei non X molto spesso.', si potrebbe sostituire X  con il verbo 'dormire'. Nella frase 'Luisa è una studentessa che ha l'abitudine di lavorare. Lei non X molto spesso.', si potrebbe sostituire X  con il verbo 'lavorare'. Nella frase 'Viola è una studentessa che ha l'abitudine di disegnare. Lei non X molto spesso.', si potrebbe sostituire X  con il verbo 'indicare'. Nella frase 'Alessandra è una studentessa che ha l'abitudine di meditare. Lei X molto spesso.', si potrebbe sostituire X  con il verbo 'meditare'. Nella frase 'Sara è una studentessa che ha l'abitudine di suonare. Lei non X molto spesso.', si potrebbe sostituire X  con il verbo 'ascoltare'. Nella frase 'Sara è una studentessa che ha l'abitudine di camminare. Lei X molto spesso.', si potrebbe sostituire X  con il verbo 'camminare'. Nella frase 'Sonia è una studentessa che ha l'abitudine di mangiare. Lei non X molto spesso.', si potrebbe sostituire X  con il verbo 'saltare'. Nella frase 'Elisa è una studentessa che ha l'abitudine di scrivere. Lei X molto spesso.', si potrebbe sostituire X  con il verbo 'scrivere'. Nella frase 'Anna è una studentessa che ha l'abitudine di cantare. Lei non X molto spesso.', si potrebbe sostituire X  con il verbo 'giocare'. Nella frase 'Giulio è un meccanico che ha l'abitudine di studiare. Lui X molto spesso.', si potrebbe sostituire X  con il verbo 'studiare'. Nella frase 'Elena è una ballerina che ha l'abitudine di leggere. Lei X molto spesso.', si potrebbe sostituire X  con il verbo 'Le. Nella.\n",
            "\n",
            "Sample: Nella frase 'Sara è una studentessa che ha l'abitudine di esagerare. Lei non X molto spesso.', si potrebbe sostituire X  con il verbo 'dormire'. Nella frase 'Luisa è una studentessa che ha l'abitudine di lavorare. Lei non X molto spesso.', si potrebbe sostituire X  con il verbo 'lavorare'. Nella frase 'Viola è una studentessa che ha l'abitudine di disegnare. Lei non X molto spesso.', si potrebbe sostituire X  con il verbo 'indicare'. Nella frase 'Alessandra è una studentessa che ha l'abitudine di meditare. Lei X molto spesso.', si potrebbe sostituire X  con il verbo 'meditare'. Nella frase 'Sara è una studentessa che ha l'abitudine di suonare. Lei non X molto spesso.', si potrebbe sostituire X  con il verbo 'ascoltare'. Nella frase 'Sara è una studentessa che ha l'abitudine di camminare. Lei X molto spesso.', si potrebbe sostituire X  con il verbo 'camminare'. Nella frase 'Sonia è una studentessa che ha l'abitudine di mangiare. Lei non X molto spesso.', si potrebbe sostituire X  con il verbo 'saltare'. Nella frase 'Elisa è una studentessa che ha l'abitudine di scrivere. Lei X molto spesso.', si potrebbe sostituire X  con il verbo 'scrivere'. Nella frase 'Anna è una studentessa che ha l'abitudine di cantare. Lei non X molto spesso.', si potrebbe sostituire X  con il verbo 'giocare'. Nella frase 'Giulio è un meccanico che ha l'abitudine di studiare. Lui X molto spesso.', si potrebbe sostituire X  con il verbo 'studiare'. Nella frase 'Elena è una ballerina che ha l'abitudine di leggere. Lei X molto spesso.', si potrebbe sostituire X  con il verbo. Si potrebbe seguire'.\n",
            "\n",
            "Sample: Nella frase 'Sara è una studentessa che ha l'abitudine di esagerare. Lei non X molto spesso.', si potrebbe sostituire X  con il verbo 'dormire'. Nella frase 'Luisa è una studentessa che ha l'abitudine di lavorare. Lei non X molto spesso.', si potrebbe sostituire X  con il verbo 'lavorare'. Nella frase 'Viola è una studentessa che ha l'abitudine di disegnare. Lei non X molto spesso.', si potrebbe sostituire X  con il verbo 'indicare'. Nella frase 'Alessandra è una studentessa che ha l'abitudine di meditare. Lei X molto spesso.', si potrebbe sostituire X  con il verbo 'meditare'. Nella frase 'Sara è una studentessa che ha l'abitudine di suonare. Lei non X molto spesso.', si potrebbe sostituire X  con il verbo 'ascoltare'. Nella frase 'Sara è una studentessa che ha l'abitudine di camminare. Lei X molto spesso.', si potrebbe sostituire X  con il verbo 'camminare'. Nella frase 'Sonia è una studentessa che ha l'abitudine di mangiare. Lei non X molto spesso.', si potrebbe sostituire X  con il verbo 'saltare'. Nella frase 'Elisa è una studentessa che ha l'abitudine di scrivere. Lei X molto spesso.', si potrebbe sostituire X  con il verbo 'scrivere'. Nella frase 'Anna è una studentessa che ha l'abitudine di cantare. Lei non X molto spesso.', si potrebbe sostituire X  con il verbo 'giocare'. Nella frase 'Giulio è un meccanico che ha l'abitudine di studiare. Lui X molto spesso.', si potrebbe sostituire X  con il verbo 'studiare'. Nella frase 'Elena è una ballerina che ha l'abitudine di leggere. Lei X molto spesso.', si potrebbe sostituire X  con il verbo \".'. si potrebbe essere\n",
            "\n"
          ]
        }
      ]
    }
  ]
}